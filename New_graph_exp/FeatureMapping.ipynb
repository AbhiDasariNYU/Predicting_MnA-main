{
 "cells": [
  {
   "cell_type": "code",
   "execution_count": 2,
   "id": "58dbc928",
   "metadata": {},
   "outputs": [],
   "source": [
    "import pandas as pd\n",
    "data=pd.read_csv('NewData1.csv')\n",
    "l1 = list(data.columns)"
   ]
  },
  {
   "cell_type": "code",
   "execution_count": 10,
   "id": "d09eca2d",
   "metadata": {},
   "outputs": [
    {
     "name": "stdout",
     "output_type": "stream",
     "text": [
      "['SDC Deal No', 'Date Announced', 'Rank Date', 'Rank Value inc. Net Debt of Target(USD, Millions)', 'Target Full Name', 'Target Macro Industry', 'Target Mid Industry', 'Target Nation', 'Acquiror Full Name', 'Acquiror Macro Industry', 'Acquiror Mid Industry', 'Acquiror Nation', \"Target Financial Advisors Name('|')\", \"Acquiror Financial Advisors Name('|')\", 'Deal Status', 'Form of the Deal', 'Acquiror Number of Employees', 'Target Number of Employees', 'Acquiror PermID', 'Target PermID', 'Target Founded Date', 'Target Primary Ticker Symbol', 'Acquiror Founded Date', 'Acquiror Current Assets Last 12 Months(USD, Millions)', 'Current Assets Last 12 Months (USD, Millions)', 'Acquiror Market Value 4 Weeks Prior to Announcement(USD, Millions)', 'Target Market Value 4 Weeks Prior to Announcement(USD, Millions)', \"Region of Headquarters('|')\", 'Acquiror CashFLow LTM(USD, Millions)', 'EBITDA Last 12 Months(USD, Millions)']\n"
     ]
    }
   ],
   "source": [
    "# remove /n from l1\n",
    "column_list = []\n",
    "for column in l1:\n",
    "    if column.find('\\n') != -1:\n",
    "        index = column.find('\\n')\n",
    "        new_column_name = column[:index] + column[index+1:]\n",
    "        column_list.append(new_column_name)\n",
    "    else:\n",
    "        column_list.append(column)\n",
    "    \n",
    "    \n",
    "print(column_list)\n",
    "\n",
    "data.columns = column_list"
   ]
  },
  {
   "cell_type": "code",
   "execution_count": 11,
   "id": "e37b39a1",
   "metadata": {},
   "outputs": [
    {
     "data": {
      "text/plain": [
       "Index(['SDC Deal No', 'Date Announced', 'Rank Date',\n",
       "       'Rank Value inc. Net Debt of Target(USD, Millions)', 'Target Full Name',\n",
       "       'Target Macro Industry', 'Target Mid Industry', 'Target Nation',\n",
       "       'Acquiror Full Name', 'Acquiror Macro Industry',\n",
       "       'Acquiror Mid Industry', 'Acquiror Nation',\n",
       "       'Target Financial Advisors Name('|')',\n",
       "       'Acquiror Financial Advisors Name('|')', 'Deal Status',\n",
       "       'Form of the Deal', 'Acquiror Number of Employees',\n",
       "       'Target Number of Employees', 'Acquiror PermID', 'Target PermID',\n",
       "       'Target Founded Date', 'Target Primary Ticker Symbol',\n",
       "       'Acquiror Founded Date',\n",
       "       'Acquiror Current Assets Last 12 Months(USD, Millions)',\n",
       "       'Current Assets Last 12 Months (USD, Millions)',\n",
       "       'Acquiror Market Value 4 Weeks Prior to Announcement(USD, Millions)',\n",
       "       'Target Market Value 4 Weeks Prior to Announcement(USD, Millions)',\n",
       "       'Region of Headquarters('|')', 'Acquiror CashFLow LTM(USD, Millions)',\n",
       "       'EBITDA Last 12 Months(USD, Millions)'],\n",
       "      dtype='object')"
      ]
     },
     "execution_count": 11,
     "metadata": {},
     "output_type": "execute_result"
    }
   ],
   "source": [
    "data.columns"
   ]
  },
  {
   "cell_type": "code",
   "execution_count": 12,
   "id": "92b35569",
   "metadata": {},
   "outputs": [],
   "source": [
    "targets=data[['Target PermID','Target Macro Industry','Target Nation','Target Number of Employees','Target Market Value 4 Weeks Prior to Announcement(USD, Millions)','Current Assets Last 12 Months (USD, Millions)','EBITDA Last 12 Months(USD, Millions)']]"
   ]
  },
  {
   "cell_type": "code",
   "execution_count": 13,
   "id": "a6019833",
   "metadata": {},
   "outputs": [
    {
     "data": {
      "text/html": [
       "<div>\n",
       "<style scoped>\n",
       "    .dataframe tbody tr th:only-of-type {\n",
       "        vertical-align: middle;\n",
       "    }\n",
       "\n",
       "    .dataframe tbody tr th {\n",
       "        vertical-align: top;\n",
       "    }\n",
       "\n",
       "    .dataframe thead th {\n",
       "        text-align: right;\n",
       "    }\n",
       "</style>\n",
       "<table border=\"1\" class=\"dataframe\">\n",
       "  <thead>\n",
       "    <tr style=\"text-align: right;\">\n",
       "      <th></th>\n",
       "      <th>Target PermID</th>\n",
       "      <th>Target Macro Industry</th>\n",
       "      <th>Target Nation</th>\n",
       "      <th>Target Number of Employees</th>\n",
       "      <th>Target Market Value 4 Weeks Prior to Announcement(USD, Millions)</th>\n",
       "      <th>Current Assets Last 12 Months (USD, Millions)</th>\n",
       "      <th>EBITDA Last 12 Months(USD, Millions)</th>\n",
       "    </tr>\n",
       "  </thead>\n",
       "  <tbody>\n",
       "    <tr>\n",
       "      <th>0</th>\n",
       "      <td>5.083826e+09</td>\n",
       "      <td>Media and Entertainment</td>\n",
       "      <td>United States</td>\n",
       "      <td>NaN</td>\n",
       "      <td>NaN</td>\n",
       "      <td>NaN</td>\n",
       "      <td>NaN</td>\n",
       "    </tr>\n",
       "    <tr>\n",
       "      <th>1</th>\n",
       "      <td>5.035897e+09</td>\n",
       "      <td>Media and Entertainment</td>\n",
       "      <td>Japan</td>\n",
       "      <td>NaN</td>\n",
       "      <td>NaN</td>\n",
       "      <td>NaN</td>\n",
       "      <td>NaN</td>\n",
       "    </tr>\n",
       "    <tr>\n",
       "      <th>2</th>\n",
       "      <td>5.047646e+09</td>\n",
       "      <td>Energy and Power</td>\n",
       "      <td>United Kingdom</td>\n",
       "      <td>NaN</td>\n",
       "      <td>NaN</td>\n",
       "      <td>NaN</td>\n",
       "      <td>NaN</td>\n",
       "    </tr>\n",
       "    <tr>\n",
       "      <th>3</th>\n",
       "      <td>5.046720e+09</td>\n",
       "      <td>Energy and Power</td>\n",
       "      <td>France</td>\n",
       "      <td>NaN</td>\n",
       "      <td>NaN</td>\n",
       "      <td>689.97</td>\n",
       "      <td>-27.43</td>\n",
       "    </tr>\n",
       "    <tr>\n",
       "      <th>4</th>\n",
       "      <td>5.081397e+09</td>\n",
       "      <td>Energy and Power</td>\n",
       "      <td>United States</td>\n",
       "      <td>NaN</td>\n",
       "      <td>NaN</td>\n",
       "      <td>NaN</td>\n",
       "      <td>NaN</td>\n",
       "    </tr>\n",
       "    <tr>\n",
       "      <th>...</th>\n",
       "      <td>...</td>\n",
       "      <td>...</td>\n",
       "      <td>...</td>\n",
       "      <td>...</td>\n",
       "      <td>...</td>\n",
       "      <td>...</td>\n",
       "      <td>...</td>\n",
       "    </tr>\n",
       "    <tr>\n",
       "      <th>8732</th>\n",
       "      <td>5.048229e+09</td>\n",
       "      <td>High Technology</td>\n",
       "      <td>Japan</td>\n",
       "      <td>NaN</td>\n",
       "      <td>NaN</td>\n",
       "      <td>NaN</td>\n",
       "      <td>NaN</td>\n",
       "    </tr>\n",
       "    <tr>\n",
       "      <th>8733</th>\n",
       "      <td>5.084859e+09</td>\n",
       "      <td>Retail</td>\n",
       "      <td>Japan</td>\n",
       "      <td>NaN</td>\n",
       "      <td>NaN</td>\n",
       "      <td>NaN</td>\n",
       "      <td>NaN</td>\n",
       "    </tr>\n",
       "    <tr>\n",
       "      <th>8734</th>\n",
       "      <td>5.084859e+09</td>\n",
       "      <td>Real Estate</td>\n",
       "      <td>Thailand</td>\n",
       "      <td>NaN</td>\n",
       "      <td>NaN</td>\n",
       "      <td>NaN</td>\n",
       "      <td>NaN</td>\n",
       "    </tr>\n",
       "    <tr>\n",
       "      <th>8736</th>\n",
       "      <td>5.037453e+09</td>\n",
       "      <td>Real Estate</td>\n",
       "      <td>Switzerland</td>\n",
       "      <td>NaN</td>\n",
       "      <td>NaN</td>\n",
       "      <td>NaN</td>\n",
       "      <td>NaN</td>\n",
       "    </tr>\n",
       "    <tr>\n",
       "      <th>8737</th>\n",
       "      <td>5.084288e+09</td>\n",
       "      <td>High Technology</td>\n",
       "      <td>United States</td>\n",
       "      <td>NaN</td>\n",
       "      <td>NaN</td>\n",
       "      <td>NaN</td>\n",
       "      <td>NaN</td>\n",
       "    </tr>\n",
       "  </tbody>\n",
       "</table>\n",
       "<p>8075 rows × 7 columns</p>\n",
       "</div>"
      ],
      "text/plain": [
       "      Target PermID    Target Macro Industry   Target Nation  \\\n",
       "0      5.083826e+09  Media and Entertainment   United States   \n",
       "1      5.035897e+09  Media and Entertainment           Japan   \n",
       "2      5.047646e+09         Energy and Power  United Kingdom   \n",
       "3      5.046720e+09         Energy and Power          France   \n",
       "4      5.081397e+09         Energy and Power   United States   \n",
       "...             ...                      ...             ...   \n",
       "8732   5.048229e+09          High Technology           Japan   \n",
       "8733   5.084859e+09                   Retail           Japan   \n",
       "8734   5.084859e+09              Real Estate        Thailand   \n",
       "8736   5.037453e+09              Real Estate     Switzerland   \n",
       "8737   5.084288e+09          High Technology   United States   \n",
       "\n",
       "     Target Number of Employees  \\\n",
       "0                           NaN   \n",
       "1                           NaN   \n",
       "2                           NaN   \n",
       "3                           NaN   \n",
       "4                           NaN   \n",
       "...                         ...   \n",
       "8732                        NaN   \n",
       "8733                        NaN   \n",
       "8734                        NaN   \n",
       "8736                        NaN   \n",
       "8737                        NaN   \n",
       "\n",
       "     Target Market Value 4 Weeks Prior to Announcement(USD, Millions)  \\\n",
       "0                                                   NaN                 \n",
       "1                                                   NaN                 \n",
       "2                                                   NaN                 \n",
       "3                                                   NaN                 \n",
       "4                                                   NaN                 \n",
       "...                                                 ...                 \n",
       "8732                                                NaN                 \n",
       "8733                                                NaN                 \n",
       "8734                                                NaN                 \n",
       "8736                                                NaN                 \n",
       "8737                                                NaN                 \n",
       "\n",
       "     Current Assets Last 12 Months (USD, Millions)  \\\n",
       "0                                              NaN   \n",
       "1                                              NaN   \n",
       "2                                              NaN   \n",
       "3                                           689.97   \n",
       "4                                              NaN   \n",
       "...                                            ...   \n",
       "8732                                           NaN   \n",
       "8733                                           NaN   \n",
       "8734                                           NaN   \n",
       "8736                                           NaN   \n",
       "8737                                           NaN   \n",
       "\n",
       "     EBITDA Last 12 Months(USD, Millions)  \n",
       "0                                     NaN  \n",
       "1                                     NaN  \n",
       "2                                     NaN  \n",
       "3                                  -27.43  \n",
       "4                                     NaN  \n",
       "...                                   ...  \n",
       "8732                                  NaN  \n",
       "8733                                  NaN  \n",
       "8734                                  NaN  \n",
       "8736                                  NaN  \n",
       "8737                                  NaN  \n",
       "\n",
       "[8075 rows x 7 columns]"
      ]
     },
     "execution_count": 13,
     "metadata": {},
     "output_type": "execute_result"
    }
   ],
   "source": [
    "# drop rows with permid as nan\n",
    "targets=targets.dropna(subset=['Target PermID'])\n",
    "targets"
   ]
  },
  {
   "cell_type": "code",
   "execution_count": 14,
   "id": "b66a3a1d",
   "metadata": {},
   "outputs": [
    {
     "data": {
      "text/plain": [
       "{'Current Assets Last 12 Months (USD, Millions)',\n",
       " 'EBITDA Last 12 Months(USD, Millions)',\n",
       " 'Target Macro Industry',\n",
       " 'Target Market Value 4 Weeks Prior to Announcement(USD, Millions)',\n",
       " 'Target Nation',\n",
       " 'Target Number of Employees'}"
      ]
     },
     "execution_count": 14,
     "metadata": {},
     "output_type": "execute_result"
    }
   ],
   "source": [
    "targets['Target PermID']=targets['Target PermID'].astype(str)\n",
    "targets= targets.melt(id_vars='Target PermID')\n",
    "targets = targets.rename(columns={'Target PermID': 'company_id', 'value': 'val_id','variable':'edge_type'})\n",
    "set(targets.edge_type.values)"
   ]
  },
  {
   "cell_type": "code",
   "execution_count": 15,
   "id": "6db1b154",
   "metadata": {},
   "outputs": [
    {
     "data": {
      "text/html": [
       "<div>\n",
       "<style scoped>\n",
       "    .dataframe tbody tr th:only-of-type {\n",
       "        vertical-align: middle;\n",
       "    }\n",
       "\n",
       "    .dataframe tbody tr th {\n",
       "        vertical-align: top;\n",
       "    }\n",
       "\n",
       "    .dataframe thead th {\n",
       "        text-align: right;\n",
       "    }\n",
       "</style>\n",
       "<table border=\"1\" class=\"dataframe\">\n",
       "  <thead>\n",
       "    <tr style=\"text-align: right;\">\n",
       "      <th></th>\n",
       "      <th>company_id</th>\n",
       "      <th>edge_type</th>\n",
       "      <th>val_id</th>\n",
       "    </tr>\n",
       "  </thead>\n",
       "  <tbody>\n",
       "    <tr>\n",
       "      <th>0</th>\n",
       "      <td>5083825968.0</td>\n",
       "      <td>Target Macro Industry</td>\n",
       "      <td>Media and Entertainment</td>\n",
       "    </tr>\n",
       "    <tr>\n",
       "      <th>1</th>\n",
       "      <td>5035897096.0</td>\n",
       "      <td>Target Macro Industry</td>\n",
       "      <td>Media and Entertainment</td>\n",
       "    </tr>\n",
       "    <tr>\n",
       "      <th>2</th>\n",
       "      <td>5047645553.0</td>\n",
       "      <td>Target Macro Industry</td>\n",
       "      <td>Energy and Power</td>\n",
       "    </tr>\n",
       "    <tr>\n",
       "      <th>3</th>\n",
       "      <td>5046719927.0</td>\n",
       "      <td>Target Macro Industry</td>\n",
       "      <td>Energy and Power</td>\n",
       "    </tr>\n",
       "    <tr>\n",
       "      <th>4</th>\n",
       "      <td>5081397020.0</td>\n",
       "      <td>Target Macro Industry</td>\n",
       "      <td>Energy and Power</td>\n",
       "    </tr>\n",
       "    <tr>\n",
       "      <th>...</th>\n",
       "      <td>...</td>\n",
       "      <td>...</td>\n",
       "      <td>...</td>\n",
       "    </tr>\n",
       "    <tr>\n",
       "      <th>48445</th>\n",
       "      <td>5048228591.0</td>\n",
       "      <td>EBITDA Last 12 Months(USD, Millions)</td>\n",
       "      <td>NaN</td>\n",
       "    </tr>\n",
       "    <tr>\n",
       "      <th>48446</th>\n",
       "      <td>5084859183.0</td>\n",
       "      <td>EBITDA Last 12 Months(USD, Millions)</td>\n",
       "      <td>NaN</td>\n",
       "    </tr>\n",
       "    <tr>\n",
       "      <th>48447</th>\n",
       "      <td>5084859160.0</td>\n",
       "      <td>EBITDA Last 12 Months(USD, Millions)</td>\n",
       "      <td>NaN</td>\n",
       "    </tr>\n",
       "    <tr>\n",
       "      <th>48448</th>\n",
       "      <td>5037452603.0</td>\n",
       "      <td>EBITDA Last 12 Months(USD, Millions)</td>\n",
       "      <td>NaN</td>\n",
       "    </tr>\n",
       "    <tr>\n",
       "      <th>48449</th>\n",
       "      <td>5084288207.0</td>\n",
       "      <td>EBITDA Last 12 Months(USD, Millions)</td>\n",
       "      <td>NaN</td>\n",
       "    </tr>\n",
       "  </tbody>\n",
       "</table>\n",
       "<p>48450 rows × 3 columns</p>\n",
       "</div>"
      ],
      "text/plain": [
       "         company_id                             edge_type  \\\n",
       "0      5083825968.0                 Target Macro Industry   \n",
       "1      5035897096.0                 Target Macro Industry   \n",
       "2      5047645553.0                 Target Macro Industry   \n",
       "3      5046719927.0                 Target Macro Industry   \n",
       "4      5081397020.0                 Target Macro Industry   \n",
       "...             ...                                   ...   \n",
       "48445  5048228591.0  EBITDA Last 12 Months(USD, Millions)   \n",
       "48446  5084859183.0  EBITDA Last 12 Months(USD, Millions)   \n",
       "48447  5084859160.0  EBITDA Last 12 Months(USD, Millions)   \n",
       "48448  5037452603.0  EBITDA Last 12 Months(USD, Millions)   \n",
       "48449  5084288207.0  EBITDA Last 12 Months(USD, Millions)   \n",
       "\n",
       "                        val_id  \n",
       "0      Media and Entertainment  \n",
       "1      Media and Entertainment  \n",
       "2             Energy and Power  \n",
       "3             Energy and Power  \n",
       "4             Energy and Power  \n",
       "...                        ...  \n",
       "48445                      NaN  \n",
       "48446                      NaN  \n",
       "48447                      NaN  \n",
       "48448                      NaN  \n",
       "48449                      NaN  \n",
       "\n",
       "[48450 rows x 3 columns]"
      ]
     },
     "execution_count": 15,
     "metadata": {},
     "output_type": "execute_result"
    }
   ],
   "source": [
    "targets"
   ]
  },
  {
   "cell_type": "code",
   "execution_count": 16,
   "id": "baa3dc78",
   "metadata": {},
   "outputs": [
    {
     "data": {
      "text/html": [
       "<div>\n",
       "<style scoped>\n",
       "    .dataframe tbody tr th:only-of-type {\n",
       "        vertical-align: middle;\n",
       "    }\n",
       "\n",
       "    .dataframe tbody tr th {\n",
       "        vertical-align: top;\n",
       "    }\n",
       "\n",
       "    .dataframe thead th {\n",
       "        text-align: right;\n",
       "    }\n",
       "</style>\n",
       "<table border=\"1\" class=\"dataframe\">\n",
       "  <thead>\n",
       "    <tr style=\"text-align: right;\">\n",
       "      <th></th>\n",
       "      <th>company_id</th>\n",
       "      <th>edge_type</th>\n",
       "      <th>val_id</th>\n",
       "    </tr>\n",
       "  </thead>\n",
       "  <tbody>\n",
       "    <tr>\n",
       "      <th>0</th>\n",
       "      <td>5083825968.0</td>\n",
       "      <td>Target Macro Industry</td>\n",
       "      <td>Media and Entertainment</td>\n",
       "    </tr>\n",
       "    <tr>\n",
       "      <th>1</th>\n",
       "      <td>5035897096.0</td>\n",
       "      <td>Target Macro Industry</td>\n",
       "      <td>Media and Entertainment</td>\n",
       "    </tr>\n",
       "    <tr>\n",
       "      <th>2</th>\n",
       "      <td>5047645553.0</td>\n",
       "      <td>Target Macro Industry</td>\n",
       "      <td>Energy and Power</td>\n",
       "    </tr>\n",
       "    <tr>\n",
       "      <th>3</th>\n",
       "      <td>5046719927.0</td>\n",
       "      <td>Target Macro Industry</td>\n",
       "      <td>Energy and Power</td>\n",
       "    </tr>\n",
       "    <tr>\n",
       "      <th>4</th>\n",
       "      <td>5081397020.0</td>\n",
       "      <td>Target Macro Industry</td>\n",
       "      <td>Energy and Power</td>\n",
       "    </tr>\n",
       "    <tr>\n",
       "      <th>...</th>\n",
       "      <td>...</td>\n",
       "      <td>...</td>\n",
       "      <td>...</td>\n",
       "    </tr>\n",
       "    <tr>\n",
       "      <th>48320</th>\n",
       "      <td>5081411089.0</td>\n",
       "      <td>EBITDA Last 12 Months(USD, Millions)</td>\n",
       "      <td>8.01</td>\n",
       "    </tr>\n",
       "    <tr>\n",
       "      <th>48330</th>\n",
       "      <td>5081418709.0</td>\n",
       "      <td>EBITDA Last 12 Months(USD, Millions)</td>\n",
       "      <td>1.39</td>\n",
       "    </tr>\n",
       "    <tr>\n",
       "      <th>48337</th>\n",
       "      <td>4295899815.0</td>\n",
       "      <td>EBITDA Last 12 Months(USD, Millions)</td>\n",
       "      <td>146.42</td>\n",
       "    </tr>\n",
       "    <tr>\n",
       "      <th>48345</th>\n",
       "      <td>5036894311.0</td>\n",
       "      <td>EBITDA Last 12 Months(USD, Millions)</td>\n",
       "      <td>55.25</td>\n",
       "    </tr>\n",
       "    <tr>\n",
       "      <th>48369</th>\n",
       "      <td>5044556406.0</td>\n",
       "      <td>EBITDA Last 12 Months(USD, Millions)</td>\n",
       "      <td>1.81</td>\n",
       "    </tr>\n",
       "  </tbody>\n",
       "</table>\n",
       "<p>19675 rows × 3 columns</p>\n",
       "</div>"
      ],
      "text/plain": [
       "         company_id                             edge_type  \\\n",
       "0      5083825968.0                 Target Macro Industry   \n",
       "1      5035897096.0                 Target Macro Industry   \n",
       "2      5047645553.0                 Target Macro Industry   \n",
       "3      5046719927.0                 Target Macro Industry   \n",
       "4      5081397020.0                 Target Macro Industry   \n",
       "...             ...                                   ...   \n",
       "48320  5081411089.0  EBITDA Last 12 Months(USD, Millions)   \n",
       "48330  5081418709.0  EBITDA Last 12 Months(USD, Millions)   \n",
       "48337  4295899815.0  EBITDA Last 12 Months(USD, Millions)   \n",
       "48345  5036894311.0  EBITDA Last 12 Months(USD, Millions)   \n",
       "48369  5044556406.0  EBITDA Last 12 Months(USD, Millions)   \n",
       "\n",
       "                        val_id  \n",
       "0      Media and Entertainment  \n",
       "1      Media and Entertainment  \n",
       "2             Energy and Power  \n",
       "3             Energy and Power  \n",
       "4             Energy and Power  \n",
       "...                        ...  \n",
       "48320                     8.01  \n",
       "48330                     1.39  \n",
       "48337                   146.42  \n",
       "48345                    55.25  \n",
       "48369                     1.81  \n",
       "\n",
       "[19675 rows x 3 columns]"
      ]
     },
     "execution_count": 16,
     "metadata": {},
     "output_type": "execute_result"
    }
   ],
   "source": [
    "# drop NaN values\n",
    "targets=targets.dropna()\n",
    "targets"
   ]
  },
  {
   "cell_type": "code",
   "execution_count": 17,
   "id": "4c6f44bb",
   "metadata": {},
   "outputs": [],
   "source": [
    "mapper={'Current Assets Last 12 Months (USD, Millions)':'Quant_Metric',\n",
    " 'EBITDA Last 12 Months(USD, Millions)':'Quant_Metric',\n",
    " 'Target Macro Industry':'Industry',\n",
    " 'Target Market Value 4 Weeks Prior to Announcement(USD, Millions)':'Quant_Metric',\n",
    " 'Target Nation':'Location',\n",
    " 'Target Number of Employees':'Quant_Metric'}"
   ]
  },
  {
   "cell_type": "code",
   "execution_count": 18,
   "id": "16158d29",
   "metadata": {},
   "outputs": [],
   "source": [
    "new=[]\n",
    "for index,row in targets.iterrows():\n",
    "    new.append(mapper[row['edge_type']])"
   ]
  },
  {
   "cell_type": "code",
   "execution_count": 19,
   "id": "37f9eb07",
   "metadata": {},
   "outputs": [
    {
     "name": "stderr",
     "output_type": "stream",
     "text": [
      "C:\\Users\\Nakul\\AppData\\Local\\Temp\\ipykernel_10476\\823271063.py:1: SettingWithCopyWarning: \n",
      "A value is trying to be set on a copy of a slice from a DataFrame.\n",
      "Try using .loc[row_indexer,col_indexer] = value instead\n",
      "\n",
      "See the caveats in the documentation: https://pandas.pydata.org/pandas-docs/stable/user_guide/indexing.html#returning-a-view-versus-a-copy\n",
      "  targets['node_type']=new\n"
     ]
    }
   ],
   "source": [
    "targets['node_type']=new"
   ]
  },
  {
   "cell_type": "code",
   "execution_count": 20,
   "id": "e0ff2ae5",
   "metadata": {},
   "outputs": [
    {
     "data": {
      "text/html": [
       "<div>\n",
       "<style scoped>\n",
       "    .dataframe tbody tr th:only-of-type {\n",
       "        vertical-align: middle;\n",
       "    }\n",
       "\n",
       "    .dataframe tbody tr th {\n",
       "        vertical-align: top;\n",
       "    }\n",
       "\n",
       "    .dataframe thead th {\n",
       "        text-align: right;\n",
       "    }\n",
       "</style>\n",
       "<table border=\"1\" class=\"dataframe\">\n",
       "  <thead>\n",
       "    <tr style=\"text-align: right;\">\n",
       "      <th></th>\n",
       "      <th>company_id</th>\n",
       "      <th>edge_type</th>\n",
       "      <th>val_id</th>\n",
       "      <th>node_type</th>\n",
       "    </tr>\n",
       "  </thead>\n",
       "  <tbody>\n",
       "    <tr>\n",
       "      <th>0</th>\n",
       "      <td>5083825968.0</td>\n",
       "      <td>Target Macro Industry</td>\n",
       "      <td>Media and Entertainment</td>\n",
       "      <td>Industry</td>\n",
       "    </tr>\n",
       "    <tr>\n",
       "      <th>1</th>\n",
       "      <td>5035897096.0</td>\n",
       "      <td>Target Macro Industry</td>\n",
       "      <td>Media and Entertainment</td>\n",
       "      <td>Industry</td>\n",
       "    </tr>\n",
       "    <tr>\n",
       "      <th>2</th>\n",
       "      <td>5047645553.0</td>\n",
       "      <td>Target Macro Industry</td>\n",
       "      <td>Energy and Power</td>\n",
       "      <td>Industry</td>\n",
       "    </tr>\n",
       "    <tr>\n",
       "      <th>3</th>\n",
       "      <td>5046719927.0</td>\n",
       "      <td>Target Macro Industry</td>\n",
       "      <td>Energy and Power</td>\n",
       "      <td>Industry</td>\n",
       "    </tr>\n",
       "    <tr>\n",
       "      <th>4</th>\n",
       "      <td>5081397020.0</td>\n",
       "      <td>Target Macro Industry</td>\n",
       "      <td>Energy and Power</td>\n",
       "      <td>Industry</td>\n",
       "    </tr>\n",
       "    <tr>\n",
       "      <th>...</th>\n",
       "      <td>...</td>\n",
       "      <td>...</td>\n",
       "      <td>...</td>\n",
       "      <td>...</td>\n",
       "    </tr>\n",
       "    <tr>\n",
       "      <th>48320</th>\n",
       "      <td>5081411089.0</td>\n",
       "      <td>EBITDA Last 12 Months(USD, Millions)</td>\n",
       "      <td>8.01</td>\n",
       "      <td>Quant_Metric</td>\n",
       "    </tr>\n",
       "    <tr>\n",
       "      <th>48330</th>\n",
       "      <td>5081418709.0</td>\n",
       "      <td>EBITDA Last 12 Months(USD, Millions)</td>\n",
       "      <td>1.39</td>\n",
       "      <td>Quant_Metric</td>\n",
       "    </tr>\n",
       "    <tr>\n",
       "      <th>48337</th>\n",
       "      <td>4295899815.0</td>\n",
       "      <td>EBITDA Last 12 Months(USD, Millions)</td>\n",
       "      <td>146.42</td>\n",
       "      <td>Quant_Metric</td>\n",
       "    </tr>\n",
       "    <tr>\n",
       "      <th>48345</th>\n",
       "      <td>5036894311.0</td>\n",
       "      <td>EBITDA Last 12 Months(USD, Millions)</td>\n",
       "      <td>55.25</td>\n",
       "      <td>Quant_Metric</td>\n",
       "    </tr>\n",
       "    <tr>\n",
       "      <th>48369</th>\n",
       "      <td>5044556406.0</td>\n",
       "      <td>EBITDA Last 12 Months(USD, Millions)</td>\n",
       "      <td>1.81</td>\n",
       "      <td>Quant_Metric</td>\n",
       "    </tr>\n",
       "  </tbody>\n",
       "</table>\n",
       "<p>19675 rows × 4 columns</p>\n",
       "</div>"
      ],
      "text/plain": [
       "         company_id                             edge_type  \\\n",
       "0      5083825968.0                 Target Macro Industry   \n",
       "1      5035897096.0                 Target Macro Industry   \n",
       "2      5047645553.0                 Target Macro Industry   \n",
       "3      5046719927.0                 Target Macro Industry   \n",
       "4      5081397020.0                 Target Macro Industry   \n",
       "...             ...                                   ...   \n",
       "48320  5081411089.0  EBITDA Last 12 Months(USD, Millions)   \n",
       "48330  5081418709.0  EBITDA Last 12 Months(USD, Millions)   \n",
       "48337  4295899815.0  EBITDA Last 12 Months(USD, Millions)   \n",
       "48345  5036894311.0  EBITDA Last 12 Months(USD, Millions)   \n",
       "48369  5044556406.0  EBITDA Last 12 Months(USD, Millions)   \n",
       "\n",
       "                        val_id     node_type  \n",
       "0      Media and Entertainment      Industry  \n",
       "1      Media and Entertainment      Industry  \n",
       "2             Energy and Power      Industry  \n",
       "3             Energy and Power      Industry  \n",
       "4             Energy and Power      Industry  \n",
       "...                        ...           ...  \n",
       "48320                     8.01  Quant_Metric  \n",
       "48330                     1.39  Quant_Metric  \n",
       "48337                   146.42  Quant_Metric  \n",
       "48345                    55.25  Quant_Metric  \n",
       "48369                     1.81  Quant_Metric  \n",
       "\n",
       "[19675 rows x 4 columns]"
      ]
     },
     "execution_count": 20,
     "metadata": {},
     "output_type": "execute_result"
    }
   ],
   "source": [
    "targets"
   ]
  },
  {
   "cell_type": "code",
   "execution_count": 43,
   "id": "1178a5ad",
   "metadata": {},
   "outputs": [
    {
     "name": "stderr",
     "output_type": "stream",
     "text": [
      "C:\\Users\\Nakul\\AppData\\Local\\Temp\\ipykernel_10476\\3610552650.py:2: SettingWithCopyWarning: \n",
      "A value is trying to be set on a copy of a slice from a DataFrame.\n",
      "Try using .loc[row_indexer,col_indexer] = value instead\n",
      "\n",
      "See the caveats in the documentation: https://pandas.pydata.org/pandas-docs/stable/user_guide/indexing.html#returning-a-view-versus-a-copy\n",
      "  targets['edge_type']=targets['edge_type'].str.replace('Target ','')\n",
      "C:\\Users\\Nakul\\AppData\\Local\\Temp\\ipykernel_10476\\3610552650.py:4: SettingWithCopyWarning: \n",
      "A value is trying to be set on a copy of a slice from a DataFrame.\n",
      "Try using .loc[row_indexer,col_indexer] = value instead\n",
      "\n",
      "See the caveats in the documentation: https://pandas.pydata.org/pandas-docs/stable/user_guide/indexing.html#returning-a-view-versus-a-copy\n",
      "  targets['edge_type'] = targets['edge_type'].str.replace(\"EBITDA Last 12 Months\", 'Cashflow')\n",
      "C:\\Users\\Nakul\\AppData\\Local\\Temp\\ipykernel_10476\\3610552650.py:5: SettingWithCopyWarning: \n",
      "A value is trying to be set on a copy of a slice from a DataFrame.\n",
      "Try using .loc[row_indexer,col_indexer] = value instead\n",
      "\n",
      "See the caveats in the documentation: https://pandas.pydata.org/pandas-docs/stable/user_guide/indexing.html#returning-a-view-versus-a-copy\n",
      "  targets['edge_type'] = targets['edge_type'].str.replace(\"Current Assets Last 12 Months \", 'Current Assets Last 12 Months')\n"
     ]
    }
   ],
   "source": [
    "# Remove Target from edge type\n",
    "targets['edge_type']=targets['edge_type'].str.replace('Target ','')\n",
    "# Replace ebitda with cashflow\n",
    "targets['edge_type'] = targets['edge_type'].str.replace(\"EBITDA Last 12 Months\", 'Cashflow')\n",
    "targets['edge_type'] = targets['edge_type'].str.replace(\"Current Assets Last 12 Months \", 'Current Assets Last 12 Months')\n",
    "\n",
    "\n",
    "\n"
   ]
  },
  {
   "cell_type": "code",
   "execution_count": 44,
   "id": "1f474743",
   "metadata": {},
   "outputs": [
    {
     "name": "stderr",
     "output_type": "stream",
     "text": [
      "C:\\Users\\Nakul\\AppData\\Local\\Temp\\ipykernel_10476\\2435182257.py:1: SettingWithCopyWarning: \n",
      "A value is trying to be set on a copy of a slice from a DataFrame\n",
      "\n",
      "See the caveats in the documentation: https://pandas.pydata.org/pandas-docs/stable/user_guide/indexing.html#returning-a-view-versus-a-copy\n",
      "  targets.dropna(inplace=True)\n"
     ]
    }
   ],
   "source": [
    "targets.dropna(inplace=True)"
   ]
  },
  {
   "cell_type": "code",
   "execution_count": 45,
   "id": "1e16738e",
   "metadata": {},
   "outputs": [
    {
     "data": {
      "text/plain": [
       "{'Cashflow(USD, Millions)',\n",
       " 'Current Assets Last 12 Months(USD, Millions)',\n",
       " 'Macro Industry',\n",
       " 'Market Value 4 Weeks Prior to Announcement(USD, Millions)',\n",
       " 'Nation',\n",
       " 'Number of Employees'}"
      ]
     },
     "execution_count": 45,
     "metadata": {},
     "output_type": "execute_result"
    }
   ],
   "source": [
    "#list unqiue edge types\n",
    "set(targets.edge_type.values)"
   ]
  },
  {
   "cell_type": "code",
   "execution_count": 46,
   "id": "62d87841",
   "metadata": {},
   "outputs": [
    {
     "data": {
      "text/plain": [
       "{'Acquiror CashFLow LTM(USD, Millions)',\n",
       " 'Acquiror Current Assets Last 12 Months(USD, Millions)',\n",
       " 'Acquiror Macro Industry',\n",
       " 'Acquiror Market Value 4 Weeks Prior to Announcement(USD, Millions)',\n",
       " 'Acquiror Nation',\n",
       " 'Acquiror Number of Employees'}"
      ]
     },
     "execution_count": 46,
     "metadata": {},
     "output_type": "execute_result"
    }
   ],
   "source": [
    "# for acquirors\n",
    "\n",
    "acquirors = data[\n",
    "    [\n",
    "        \"Acquiror PermID\",\n",
    "        \"Acquiror Macro Industry\",\n",
    "        \"Acquiror Nation\",\n",
    "        \"Acquiror Number of Employees\",\n",
    "        \"Acquiror Market Value 4 Weeks Prior to Announcement(USD, Millions)\",\n",
    "        \"Acquiror Current Assets Last 12 Months(USD, Millions)\",\n",
    "        \"Acquiror CashFLow LTM(USD, Millions)\",\n",
    "    ]\n",
    "]\n",
    "# drop rows with permid as nan\n",
    "acquirors = acquirors.dropna(subset=[\"Acquiror PermID\"])\n",
    "\n",
    "acquirors[\"Acquiror PermID\"] = acquirors[\"Acquiror PermID\"].astype(str)\n",
    "acquirors = acquirors.melt(id_vars=\"Acquiror PermID\")\n",
    "acquirors = acquirors.rename(\n",
    "    columns={\n",
    "        \"Acquiror PermID\": \"company_id\",\n",
    "        \"value\": \"val_id\",\n",
    "        \"variable\": \"edge_type\",\n",
    "    }\n",
    ")\n",
    "set(acquirors.edge_type.values)\n"
   ]
  },
  {
   "cell_type": "code",
   "execution_count": 47,
   "id": "a64ceaaa",
   "metadata": {},
   "outputs": [],
   "source": [
    "mapper2 = {\n",
    "    \"Acquiror Current Assets Last 12 Months(USD, Millions)\": \"Quant_Metric\",\n",
    "    \"Acquiror CashFLow LTM(USD, Millions)\": \"Quant_Metric\",\n",
    "    \"Acquiror Macro Industry\": \"Industry\",\n",
    "    \"Acquiror Market Value 4 Weeks Prior to Announcement(USD, Millions)\": \"Quant_Metric\",\n",
    "    \"Acquiror Nation\": \"Location\",\n",
    "    \"Acquiror Number of Employees\": \"Quant_Metric\",\n",
    "}\n"
   ]
  },
  {
   "cell_type": "code",
   "execution_count": 48,
   "id": "99d1bb3e",
   "metadata": {},
   "outputs": [],
   "source": [
    "new2 = []\n",
    "for index, row in acquirors.iterrows():\n",
    "    new2.append(mapper2[row[\"edge_type\"]])\n",
    "    "
   ]
  },
  {
   "cell_type": "code",
   "execution_count": 49,
   "id": "64002556",
   "metadata": {},
   "outputs": [],
   "source": [
    "acquirors[\"node_type\"] = new2"
   ]
  },
  {
   "cell_type": "code",
   "execution_count": 50,
   "id": "5deb513c",
   "metadata": {},
   "outputs": [
    {
     "data": {
      "text/html": [
       "<div>\n",
       "<style scoped>\n",
       "    .dataframe tbody tr th:only-of-type {\n",
       "        vertical-align: middle;\n",
       "    }\n",
       "\n",
       "    .dataframe tbody tr th {\n",
       "        vertical-align: top;\n",
       "    }\n",
       "\n",
       "    .dataframe thead th {\n",
       "        text-align: right;\n",
       "    }\n",
       "</style>\n",
       "<table border=\"1\" class=\"dataframe\">\n",
       "  <thead>\n",
       "    <tr style=\"text-align: right;\">\n",
       "      <th></th>\n",
       "      <th>company_id</th>\n",
       "      <th>edge_type</th>\n",
       "      <th>val_id</th>\n",
       "      <th>node_type</th>\n",
       "    </tr>\n",
       "  </thead>\n",
       "  <tbody>\n",
       "    <tr>\n",
       "      <th>0</th>\n",
       "      <td>5083826127.0</td>\n",
       "      <td>Acquiror Macro Industry</td>\n",
       "      <td>Media and Entertainment</td>\n",
       "      <td>Industry</td>\n",
       "    </tr>\n",
       "    <tr>\n",
       "      <th>1</th>\n",
       "      <td>4295878634.0</td>\n",
       "      <td>Acquiror Macro Industry</td>\n",
       "      <td>Telecommunications</td>\n",
       "      <td>Industry</td>\n",
       "    </tr>\n",
       "    <tr>\n",
       "      <th>2</th>\n",
       "      <td>4295885039.0</td>\n",
       "      <td>Acquiror Macro Industry</td>\n",
       "      <td>Energy and Power</td>\n",
       "      <td>Industry</td>\n",
       "    </tr>\n",
       "    <tr>\n",
       "      <th>3</th>\n",
       "      <td>5001170594.0</td>\n",
       "      <td>Acquiror Macro Industry</td>\n",
       "      <td>Energy and Power</td>\n",
       "      <td>Industry</td>\n",
       "    </tr>\n",
       "    <tr>\n",
       "      <th>4</th>\n",
       "      <td>4295885689.0</td>\n",
       "      <td>Acquiror Macro Industry</td>\n",
       "      <td>Energy and Power</td>\n",
       "      <td>Industry</td>\n",
       "    </tr>\n",
       "  </tbody>\n",
       "</table>\n",
       "</div>"
      ],
      "text/plain": [
       "     company_id                edge_type                   val_id node_type\n",
       "0  5083826127.0  Acquiror Macro Industry  Media and Entertainment  Industry\n",
       "1  4295878634.0  Acquiror Macro Industry       Telecommunications  Industry\n",
       "2  4295885039.0  Acquiror Macro Industry         Energy and Power  Industry\n",
       "3  5001170594.0  Acquiror Macro Industry         Energy and Power  Industry\n",
       "4  4295885689.0  Acquiror Macro Industry         Energy and Power  Industry"
      ]
     },
     "execution_count": 50,
     "metadata": {},
     "output_type": "execute_result"
    }
   ],
   "source": [
    "acquirors.head()"
   ]
  },
  {
   "cell_type": "code",
   "execution_count": 51,
   "id": "c41ac9d9",
   "metadata": {},
   "outputs": [
    {
     "data": {
      "text/plain": [
       "company_id        0\n",
       "edge_type         0\n",
       "val_id        23692\n",
       "node_type         0\n",
       "dtype: int64"
      ]
     },
     "execution_count": 51,
     "metadata": {},
     "output_type": "execute_result"
    }
   ],
   "source": [
    "# count number of nan values in each column\n",
    "acquirors.isnull().sum()"
   ]
  },
  {
   "cell_type": "code",
   "execution_count": 52,
   "id": "c779ca56",
   "metadata": {},
   "outputs": [
    {
     "data": {
      "text/plain": [
       "23768"
      ]
     },
     "execution_count": 52,
     "metadata": {},
     "output_type": "execute_result"
    }
   ],
   "source": [
    "# drop nan values\n",
    "acquirors.dropna(inplace=True)\n",
    "len(acquirors)"
   ]
  },
  {
   "cell_type": "code",
   "execution_count": 53,
   "id": "0409dcd9",
   "metadata": {},
   "outputs": [],
   "source": [
    "# remove Acquiror from edge type\n",
    "acquirors[\"edge_type\"] = acquirors[\"edge_type\"].str.replace(\"Acquiror \", \"\")\n",
    "# Replace cashflow\n",
    "acquirors[\"edge_type\"] = acquirors[\"edge_type\"].str.replace(\"CashFLow LTM\", \"Cashflow\")\n"
   ]
  },
  {
   "cell_type": "code",
   "execution_count": 54,
   "id": "9cf63ee7",
   "metadata": {},
   "outputs": [
    {
     "data": {
      "text/plain": [
       "{'Cashflow(USD, Millions)',\n",
       " 'Current Assets Last 12 Months(USD, Millions)',\n",
       " 'Macro Industry',\n",
       " 'Market Value 4 Weeks Prior to Announcement(USD, Millions)',\n",
       " 'Nation',\n",
       " 'Number of Employees'}"
      ]
     },
     "execution_count": 54,
     "metadata": {},
     "output_type": "execute_result"
    }
   ],
   "source": [
    "set(acquirors.edge_type.values)"
   ]
  },
  {
   "cell_type": "code",
   "execution_count": 55,
   "id": "99c86f79",
   "metadata": {},
   "outputs": [
    {
     "data": {
      "text/plain": [
       "{'Cashflow(USD, Millions)',\n",
       " 'Current Assets Last 12 Months(USD, Millions)',\n",
       " 'Macro Industry',\n",
       " 'Market Value 4 Weeks Prior to Announcement(USD, Millions)',\n",
       " 'Nation',\n",
       " 'Number of Employees'}"
      ]
     },
     "execution_count": 55,
     "metadata": {},
     "output_type": "execute_result"
    }
   ],
   "source": [
    "set(targets.edge_type.values)"
   ]
  },
  {
   "cell_type": "code",
   "execution_count": 56,
   "id": "594a2de4",
   "metadata": {},
   "outputs": [
    {
     "data": {
      "text/plain": [
       "43443"
      ]
     },
     "execution_count": 56,
     "metadata": {},
     "output_type": "execute_result"
    }
   ],
   "source": [
    "#merge acquirors and targets\n",
    "nodes=pd.concat([acquirors,targets])\n",
    "len(nodes)"
   ]
  },
  {
   "cell_type": "code",
   "execution_count": 57,
   "id": "b49fd4aa",
   "metadata": {},
   "outputs": [
    {
     "data": {
      "text/html": [
       "<div>\n",
       "<style scoped>\n",
       "    .dataframe tbody tr th:only-of-type {\n",
       "        vertical-align: middle;\n",
       "    }\n",
       "\n",
       "    .dataframe tbody tr th {\n",
       "        vertical-align: top;\n",
       "    }\n",
       "\n",
       "    .dataframe thead th {\n",
       "        text-align: right;\n",
       "    }\n",
       "</style>\n",
       "<table border=\"1\" class=\"dataframe\">\n",
       "  <thead>\n",
       "    <tr style=\"text-align: right;\">\n",
       "      <th></th>\n",
       "      <th>company_id</th>\n",
       "      <th>edge_type</th>\n",
       "      <th>val_id</th>\n",
       "      <th>node_type</th>\n",
       "    </tr>\n",
       "  </thead>\n",
       "  <tbody>\n",
       "    <tr>\n",
       "      <th>0</th>\n",
       "      <td>5083826127.0</td>\n",
       "      <td>Macro Industry</td>\n",
       "      <td>Media and Entertainment</td>\n",
       "      <td>Industry</td>\n",
       "    </tr>\n",
       "    <tr>\n",
       "      <th>1</th>\n",
       "      <td>4295878634.0</td>\n",
       "      <td>Macro Industry</td>\n",
       "      <td>Telecommunications</td>\n",
       "      <td>Industry</td>\n",
       "    </tr>\n",
       "    <tr>\n",
       "      <th>2</th>\n",
       "      <td>4295885039.0</td>\n",
       "      <td>Macro Industry</td>\n",
       "      <td>Energy and Power</td>\n",
       "      <td>Industry</td>\n",
       "    </tr>\n",
       "    <tr>\n",
       "      <th>3</th>\n",
       "      <td>5001170594.0</td>\n",
       "      <td>Macro Industry</td>\n",
       "      <td>Energy and Power</td>\n",
       "      <td>Industry</td>\n",
       "    </tr>\n",
       "    <tr>\n",
       "      <th>4</th>\n",
       "      <td>4295885689.0</td>\n",
       "      <td>Macro Industry</td>\n",
       "      <td>Energy and Power</td>\n",
       "      <td>Industry</td>\n",
       "    </tr>\n",
       "    <tr>\n",
       "      <th>...</th>\n",
       "      <td>...</td>\n",
       "      <td>...</td>\n",
       "      <td>...</td>\n",
       "      <td>...</td>\n",
       "    </tr>\n",
       "    <tr>\n",
       "      <th>48320</th>\n",
       "      <td>5081411089.0</td>\n",
       "      <td>Cashflow(USD, Millions)</td>\n",
       "      <td>8.01</td>\n",
       "      <td>Quant_Metric</td>\n",
       "    </tr>\n",
       "    <tr>\n",
       "      <th>48330</th>\n",
       "      <td>5081418709.0</td>\n",
       "      <td>Cashflow(USD, Millions)</td>\n",
       "      <td>1.39</td>\n",
       "      <td>Quant_Metric</td>\n",
       "    </tr>\n",
       "    <tr>\n",
       "      <th>48337</th>\n",
       "      <td>4295899815.0</td>\n",
       "      <td>Cashflow(USD, Millions)</td>\n",
       "      <td>146.42</td>\n",
       "      <td>Quant_Metric</td>\n",
       "    </tr>\n",
       "    <tr>\n",
       "      <th>48345</th>\n",
       "      <td>5036894311.0</td>\n",
       "      <td>Cashflow(USD, Millions)</td>\n",
       "      <td>55.25</td>\n",
       "      <td>Quant_Metric</td>\n",
       "    </tr>\n",
       "    <tr>\n",
       "      <th>48369</th>\n",
       "      <td>5044556406.0</td>\n",
       "      <td>Cashflow(USD, Millions)</td>\n",
       "      <td>1.81</td>\n",
       "      <td>Quant_Metric</td>\n",
       "    </tr>\n",
       "  </tbody>\n",
       "</table>\n",
       "<p>43443 rows × 4 columns</p>\n",
       "</div>"
      ],
      "text/plain": [
       "         company_id                edge_type                   val_id  \\\n",
       "0      5083826127.0           Macro Industry  Media and Entertainment   \n",
       "1      4295878634.0           Macro Industry       Telecommunications   \n",
       "2      4295885039.0           Macro Industry         Energy and Power   \n",
       "3      5001170594.0           Macro Industry         Energy and Power   \n",
       "4      4295885689.0           Macro Industry         Energy and Power   \n",
       "...             ...                      ...                      ...   \n",
       "48320  5081411089.0  Cashflow(USD, Millions)                     8.01   \n",
       "48330  5081418709.0  Cashflow(USD, Millions)                     1.39   \n",
       "48337  4295899815.0  Cashflow(USD, Millions)                   146.42   \n",
       "48345  5036894311.0  Cashflow(USD, Millions)                    55.25   \n",
       "48369  5044556406.0  Cashflow(USD, Millions)                     1.81   \n",
       "\n",
       "          node_type  \n",
       "0          Industry  \n",
       "1          Industry  \n",
       "2          Industry  \n",
       "3          Industry  \n",
       "4          Industry  \n",
       "...             ...  \n",
       "48320  Quant_Metric  \n",
       "48330  Quant_Metric  \n",
       "48337  Quant_Metric  \n",
       "48345  Quant_Metric  \n",
       "48369  Quant_Metric  \n",
       "\n",
       "[43443 rows x 4 columns]"
      ]
     },
     "execution_count": 57,
     "metadata": {},
     "output_type": "execute_result"
    }
   ],
   "source": [
    "nodes"
   ]
  },
  {
   "cell_type": "code",
   "execution_count": 59,
   "id": "f1806c23",
   "metadata": {},
   "outputs": [],
   "source": [
    "# save nodes to csv\n",
    "nodes.to_csv('prop_edges.csv')\n"
   ]
  },
  {
   "cell_type": "code",
   "execution_count": 29,
   "id": "4e9e8168",
   "metadata": {},
   "outputs": [
    {
     "data": {
      "text/html": [
       "<div>\n",
       "<style scoped>\n",
       "    .dataframe tbody tr th:only-of-type {\n",
       "        vertical-align: middle;\n",
       "    }\n",
       "\n",
       "    .dataframe tbody tr th {\n",
       "        vertical-align: top;\n",
       "    }\n",
       "\n",
       "    .dataframe thead th {\n",
       "        text-align: right;\n",
       "    }\n",
       "</style>\n",
       "<table border=\"1\" class=\"dataframe\">\n",
       "  <thead>\n",
       "    <tr style=\"text-align: right;\">\n",
       "      <th></th>\n",
       "      <th>owned_id</th>\n",
       "      <th>owner_id</th>\n",
       "      <th>date</th>\n",
       "    </tr>\n",
       "  </thead>\n",
       "  <tbody>\n",
       "    <tr>\n",
       "      <th>0</th>\n",
       "      <td>5.083758e+09</td>\n",
       "      <td>5.083758e+09</td>\n",
       "      <td>01/10/2023</td>\n",
       "    </tr>\n",
       "    <tr>\n",
       "      <th>1</th>\n",
       "      <td>5.065325e+09</td>\n",
       "      <td>5.065325e+09</td>\n",
       "      <td>10/06/2022</td>\n",
       "    </tr>\n",
       "    <tr>\n",
       "      <th>2</th>\n",
       "      <td>5.000648e+09</td>\n",
       "      <td>5.000648e+09</td>\n",
       "      <td>10/11/2022</td>\n",
       "    </tr>\n",
       "    <tr>\n",
       "      <th>3</th>\n",
       "      <td>4.298070e+09</td>\n",
       "      <td>4.298070e+09</td>\n",
       "      <td>04/19/2022</td>\n",
       "    </tr>\n",
       "    <tr>\n",
       "      <th>4</th>\n",
       "      <td>4.295885e+09</td>\n",
       "      <td>4.295885e+09</td>\n",
       "      <td>07/05/2022</td>\n",
       "    </tr>\n",
       "  </tbody>\n",
       "</table>\n",
       "</div>"
      ],
      "text/plain": [
       "       owned_id      owner_id        date\n",
       "0  5.083758e+09  5.083758e+09  01/10/2023\n",
       "1  5.065325e+09  5.065325e+09  10/06/2022\n",
       "2  5.000648e+09  5.000648e+09  10/11/2022\n",
       "3  4.298070e+09  4.298070e+09  04/19/2022\n",
       "4  4.295885e+09  4.295885e+09  07/05/2022"
      ]
     },
     "execution_count": 29,
     "metadata": {},
     "output_type": "execute_result"
    }
   ],
   "source": [
    "df1 = pd.read_csv(\"merged-acq-edges.csv\")\n",
    "df1.head()"
   ]
  },
  {
   "cell_type": "code",
   "execution_count": 30,
   "id": "ea3747a4",
   "metadata": {},
   "outputs": [
    {
     "data": {
      "text/plain": [
       "owned_id    0\n",
       "owner_id    0\n",
       "date        0\n",
       "dtype: int64"
      ]
     },
     "execution_count": 30,
     "metadata": {},
     "output_type": "execute_result"
    }
   ],
   "source": [
    "# count null values in each column\n",
    "df1.isnull().sum()"
   ]
  },
  {
   "cell_type": "code",
   "execution_count": 13,
   "id": "e7554dc0",
   "metadata": {},
   "outputs": [
    {
     "data": {
      "text/html": [
       "<div>\n",
       "<style scoped>\n",
       "    .dataframe tbody tr th:only-of-type {\n",
       "        vertical-align: middle;\n",
       "    }\n",
       "\n",
       "    .dataframe tbody tr th {\n",
       "        vertical-align: top;\n",
       "    }\n",
       "\n",
       "    .dataframe thead th {\n",
       "        text-align: right;\n",
       "    }\n",
       "</style>\n",
       "<table border=\"1\" class=\"dataframe\">\n",
       "  <thead>\n",
       "    <tr style=\"text-align: right;\">\n",
       "      <th></th>\n",
       "      <th>Acquiror PermID</th>\n",
       "      <th>Target PermID</th>\n",
       "      <th>Date Announced</th>\n",
       "    </tr>\n",
       "  </thead>\n",
       "  <tbody>\n",
       "    <tr>\n",
       "      <th>0</th>\n",
       "      <td>5.083758e+09</td>\n",
       "      <td>5.083758e+09</td>\n",
       "      <td>01/10/2023</td>\n",
       "    </tr>\n",
       "    <tr>\n",
       "      <th>1</th>\n",
       "      <td>5.065325e+09</td>\n",
       "      <td>5.065325e+09</td>\n",
       "      <td>10/06/2022</td>\n",
       "    </tr>\n",
       "    <tr>\n",
       "      <th>2</th>\n",
       "      <td>5.000648e+09</td>\n",
       "      <td>5.000648e+09</td>\n",
       "      <td>10/11/2022</td>\n",
       "    </tr>\n",
       "    <tr>\n",
       "      <th>3</th>\n",
       "      <td>4.298070e+09</td>\n",
       "      <td>4.298070e+09</td>\n",
       "      <td>04/19/2022</td>\n",
       "    </tr>\n",
       "    <tr>\n",
       "      <th>4</th>\n",
       "      <td>4.295885e+09</td>\n",
       "      <td>4.295885e+09</td>\n",
       "      <td>07/05/2022</td>\n",
       "    </tr>\n",
       "  </tbody>\n",
       "</table>\n",
       "</div>"
      ],
      "text/plain": [
       "   Acquiror PermID  Target PermID Date Announced\n",
       "0     5.083758e+09   5.083758e+09     01/10/2023\n",
       "1     5.065325e+09   5.065325e+09     10/06/2022\n",
       "2     5.000648e+09   5.000648e+09     10/11/2022\n",
       "3     4.298070e+09   4.298070e+09     04/19/2022\n",
       "4     4.295885e+09   4.295885e+09     07/05/2022"
      ]
     },
     "execution_count": 13,
     "metadata": {},
     "output_type": "execute_result"
    }
   ],
   "source": [
    "df1 = pd.read_csv(\"merged-acq-edges.csv\")\n",
    "df1.head()\n",
    "df1.drop(columns=[\"Unnamed: 0\"], inplace=True)"
   ]
  },
  {
   "cell_type": "code",
   "execution_count": 12,
   "id": "92d8ac23",
   "metadata": {},
   "outputs": [],
   "source": [
    "df1.to_csv(\"merged-acq-edges.csv\", index=False)"
   ]
  },
  {
   "cell_type": "code",
   "execution_count": 20,
   "id": "0037ebb4",
   "metadata": {},
   "outputs": [
    {
     "data": {
      "text/html": [
       "<div>\n",
       "<style scoped>\n",
       "    .dataframe tbody tr th:only-of-type {\n",
       "        vertical-align: middle;\n",
       "    }\n",
       "\n",
       "    .dataframe tbody tr th {\n",
       "        vertical-align: top;\n",
       "    }\n",
       "\n",
       "    .dataframe thead th {\n",
       "        text-align: right;\n",
       "    }\n",
       "</style>\n",
       "<table border=\"1\" class=\"dataframe\">\n",
       "  <thead>\n",
       "    <tr style=\"text-align: right;\">\n",
       "      <th></th>\n",
       "      <th>id</th>\n",
       "      <th>name</th>\n",
       "      <th>start_date</th>\n",
       "    </tr>\n",
       "  </thead>\n",
       "  <tbody>\n",
       "    <tr>\n",
       "      <th>0</th>\n",
       "      <td>5.083758e+09</td>\n",
       "      <td>TLSS Acquisition Inc</td>\n",
       "      <td>NaN</td>\n",
       "    </tr>\n",
       "    <tr>\n",
       "      <th>1</th>\n",
       "      <td>5.065325e+09</td>\n",
       "      <td>Arco Platform Ltd</td>\n",
       "      <td>01/01/2004</td>\n",
       "    </tr>\n",
       "    <tr>\n",
       "      <th>2</th>\n",
       "      <td>5.000648e+09</td>\n",
       "      <td>Fisher National Bank</td>\n",
       "      <td>01/01/1955</td>\n",
       "    </tr>\n",
       "    <tr>\n",
       "      <th>3</th>\n",
       "      <td>4.298070e+09</td>\n",
       "      <td>Higginbotham &amp; Associates LLC</td>\n",
       "      <td>01/01/1948</td>\n",
       "    </tr>\n",
       "    <tr>\n",
       "      <th>4</th>\n",
       "      <td>4.295885e+09</td>\n",
       "      <td>Fomento Economico Mexicano SAB de CV</td>\n",
       "      <td>NaN</td>\n",
       "    </tr>\n",
       "  </tbody>\n",
       "</table>\n",
       "</div>"
      ],
      "text/plain": [
       "             id                                  name  start_date\n",
       "0  5.083758e+09                  TLSS Acquisition Inc         NaN\n",
       "1  5.065325e+09                     Arco Platform Ltd  01/01/2004\n",
       "2  5.000648e+09                  Fisher National Bank  01/01/1955\n",
       "3  4.298070e+09         Higginbotham & Associates LLC  01/01/1948\n",
       "4  4.295885e+09  Fomento Economico Mexicano SAB de CV         NaN"
      ]
     },
     "execution_count": 20,
     "metadata": {},
     "output_type": "execute_result"
    }
   ],
   "source": [
    "df2 = pd.read_csv(\"merged-entities.csv\")\n",
    "df2.head()\n"
   ]
  },
  {
   "cell_type": "code",
   "execution_count": 16,
   "id": "1537a3d9",
   "metadata": {},
   "outputs": [],
   "source": [
    "df2.to_csv(\"merged-entities.csv\", index=False)"
   ]
  },
  {
   "cell_type": "code",
   "execution_count": 21,
   "id": "d2eae112",
   "metadata": {},
   "outputs": [
    {
     "data": {
      "text/plain": [
       "id               0\n",
       "name             0\n",
       "start_date    4331\n",
       "dtype: int64"
      ]
     },
     "execution_count": 21,
     "metadata": {},
     "output_type": "execute_result"
    }
   ],
   "source": [
    "# count null values in each column\n",
    "df2.isnull().sum()"
   ]
  },
  {
   "cell_type": "code",
   "execution_count": 22,
   "id": "5d62f6a6",
   "metadata": {},
   "outputs": [],
   "source": [
    "import pandas as pd\n",
    "df3 = pd.read_csv(\"D:\\Documents\\Github\\Predicting_MnA-main\\data\\ingestion\\\\acq_edges\\merged-acq-edges.csv\")"
   ]
  },
  {
   "cell_type": "code",
   "execution_count": 23,
   "id": "1b27b290",
   "metadata": {},
   "outputs": [
    {
     "data": {
      "text/plain": [
       "Index(['owned_id', 'owner_id', 'date'], dtype='object')"
      ]
     },
     "execution_count": 23,
     "metadata": {},
     "output_type": "execute_result"
    }
   ],
   "source": [
    "df3.columns"
   ]
  },
  {
   "cell_type": "code",
   "execution_count": 31,
   "id": "508e80d6",
   "metadata": {},
   "outputs": [],
   "source": [
    "df1.columns = ['owner_id','owned_id', 'date']"
   ]
  },
  {
   "cell_type": "code",
   "execution_count": 32,
   "id": "f588617c",
   "metadata": {},
   "outputs": [
    {
     "data": {
      "text/html": [
       "<div>\n",
       "<style scoped>\n",
       "    .dataframe tbody tr th:only-of-type {\n",
       "        vertical-align: middle;\n",
       "    }\n",
       "\n",
       "    .dataframe tbody tr th {\n",
       "        vertical-align: top;\n",
       "    }\n",
       "\n",
       "    .dataframe thead th {\n",
       "        text-align: right;\n",
       "    }\n",
       "</style>\n",
       "<table border=\"1\" class=\"dataframe\">\n",
       "  <thead>\n",
       "    <tr style=\"text-align: right;\">\n",
       "      <th></th>\n",
       "      <th>owner_id</th>\n",
       "      <th>owned_id</th>\n",
       "      <th>date</th>\n",
       "    </tr>\n",
       "  </thead>\n",
       "  <tbody>\n",
       "    <tr>\n",
       "      <th>0</th>\n",
       "      <td>5.083758e+09</td>\n",
       "      <td>5.083758e+09</td>\n",
       "      <td>01/10/2023</td>\n",
       "    </tr>\n",
       "    <tr>\n",
       "      <th>1</th>\n",
       "      <td>5.065325e+09</td>\n",
       "      <td>5.065325e+09</td>\n",
       "      <td>10/06/2022</td>\n",
       "    </tr>\n",
       "    <tr>\n",
       "      <th>2</th>\n",
       "      <td>5.000648e+09</td>\n",
       "      <td>5.000648e+09</td>\n",
       "      <td>10/11/2022</td>\n",
       "    </tr>\n",
       "    <tr>\n",
       "      <th>3</th>\n",
       "      <td>4.298070e+09</td>\n",
       "      <td>4.298070e+09</td>\n",
       "      <td>04/19/2022</td>\n",
       "    </tr>\n",
       "    <tr>\n",
       "      <th>4</th>\n",
       "      <td>4.295885e+09</td>\n",
       "      <td>4.295885e+09</td>\n",
       "      <td>07/05/2022</td>\n",
       "    </tr>\n",
       "  </tbody>\n",
       "</table>\n",
       "</div>"
      ],
      "text/plain": [
       "       owner_id      owned_id        date\n",
       "0  5.083758e+09  5.083758e+09  01/10/2023\n",
       "1  5.065325e+09  5.065325e+09  10/06/2022\n",
       "2  5.000648e+09  5.000648e+09  10/11/2022\n",
       "3  4.298070e+09  4.298070e+09  04/19/2022\n",
       "4  4.295885e+09  4.295885e+09  07/05/2022"
      ]
     },
     "execution_count": 32,
     "metadata": {},
     "output_type": "execute_result"
    }
   ],
   "source": [
    "df1.head()"
   ]
  },
  {
   "cell_type": "code",
   "execution_count": 33,
   "id": "7b856080",
   "metadata": {},
   "outputs": [],
   "source": [
    "df1.to_csv(\"merged-acq-edges.csv\", index=False)"
   ]
  },
  {
   "cell_type": "code",
   "execution_count": null,
   "id": "210fac94",
   "metadata": {},
   "outputs": [],
   "source": []
  }
 ],
 "metadata": {
  "kernelspec": {
   "display_name": "Python 3 (ipykernel)",
   "language": "python",
   "name": "python3"
  },
  "language_info": {
   "codemirror_mode": {
    "name": "ipython",
    "version": 3
   },
   "file_extension": ".py",
   "mimetype": "text/x-python",
   "name": "python",
   "nbconvert_exporter": "python",
   "pygments_lexer": "ipython3",
   "version": "3.10.10"
  }
 },
 "nbformat": 4,
 "nbformat_minor": 5
}
