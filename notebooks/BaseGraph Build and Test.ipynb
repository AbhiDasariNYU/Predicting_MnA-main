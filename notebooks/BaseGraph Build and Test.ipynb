{
 "cells": [
  {
   "cell_type": "code",
   "execution_count": 2,
   "metadata": {},
   "outputs": [],
   "source": [
    "import sys\n",
    "sys.path.insert(0, '../')\n",
    "from utils.BaseGraph import BaseGraph"
   ]
  },
  {
   "cell_type": "code",
   "execution_count": 3,
   "metadata": {},
   "outputs": [],
   "source": [
    "g = BaseGraph()"
   ]
  },
  {
   "cell_type": "code",
   "execution_count": 6,
   "metadata": {},
   "outputs": [],
   "source": [
    "conn = {\n",
    "    'url':'neo4j+s://b6feee15.databases.neo4j.io',\n",
    "    'user':'neo4j',\n",
    "    'password':'IPBWN94zMw4DUMufuU2IJ-g2Bw4TOHQt6duHy2kuW74'\n",
    "}"
   ]
  },
  {
   "cell_type": "code",
   "execution_count": 7,
   "metadata": {},
   "outputs": [
    {
     "name": "stdout",
     "output_type": "stream",
     "text": [
      "Connection Successful\n"
     ]
    }
   ],
   "source": [
    "g.connect_to_neo(conn_dic = conn)"
   ]
  },
  {
   "cell_type": "code",
   "execution_count": 8,
   "metadata": {},
   "outputs": [
    {
     "data": {
      "text/plain": [
       "0"
      ]
     },
     "execution_count": 8,
     "metadata": {},
     "output_type": "execute_result"
    }
   ],
   "source": [
    "len(g.nodes)"
   ]
  },
  {
   "cell_type": "code",
   "execution_count": 9,
   "metadata": {
    "scrolled": true
   },
   "outputs": [],
   "source": [
    "g.pull_full_graph(limit=None)"
   ]
  },
  {
   "cell_type": "code",
   "execution_count": 10,
   "metadata": {},
   "outputs": [
    {
     "data": {
      "text/plain": [
       "22677"
      ]
     },
     "execution_count": 10,
     "metadata": {},
     "output_type": "execute_result"
    }
   ],
   "source": [
    "len(g.nodes)"
   ]
  },
  {
   "cell_type": "code",
   "execution_count": 11,
   "metadata": {},
   "outputs": [],
   "source": [
    "g.save_graph('../data/full_graph_refinitiv')\n",
    "#g.save_graph('../data/_tmp')"
   ]
  },
  {
   "cell_type": "code",
   "execution_count": 13,
   "metadata": {},
   "outputs": [],
   "source": [
    "m = BaseGraph()\n",
    "m.load_graph('../data/full_graph_refinitiv')\n",
    "#m.load_graph('../data/_tmp')"
   ]
  },
  {
   "cell_type": "code",
   "execution_count": 14,
   "metadata": {},
   "outputs": [
    {
     "data": {
      "text/plain": [
       "22677"
      ]
     },
     "execution_count": 14,
     "metadata": {},
     "output_type": "execute_result"
    }
   ],
   "source": [
    "len(m.nodes)"
   ]
  },
  {
   "cell_type": "code",
   "execution_count": 15,
   "metadata": {},
   "outputs": [
    {
     "data": {
      "text/plain": [
       "[(6562, 14737, {'label': 'Macro Industry'}),\n",
       " (6562, 14790, {'label': 'Nation'}),\n",
       " (6562, 19014, {'label': 'Cashflow(USD, Millions)'}),\n",
       " (6562, 6562, {'label': 'ACQUIRED'}),\n",
       " (2816, 14738, {'label': 'Macro Industry'})]"
      ]
     },
     "execution_count": 15,
     "metadata": {},
     "output_type": "execute_result"
    }
   ],
   "source": [
    "list(m.edges(data=True))[0:5]"
   ]
  },
  {
   "cell_type": "code",
   "execution_count": null,
   "metadata": {},
   "outputs": [],
   "source": []
  },
  {
   "cell_type": "code",
   "execution_count": 1,
   "metadata": {},
   "outputs": [
    {
     "name": "stdout",
     "output_type": "stream",
     "text": [
      "                                    Target Full Name           Type of edge  \\\n",
      "0                          Severance Trucking Co Inc            SDC Deal No   \n",
      "1                   Bassett Furniture Industries Inc            SDC Deal No   \n",
      "2                                      Vale Inco Ltd            SDC Deal No   \n",
      "3                                   Butler Point Inc            SDC Deal No   \n",
      "4               Lyon Fry Cadden Insurance Agency Inc            SDC Deal No   \n",
      "...                                              ...                    ...   \n",
      "192209                                  Processus AB  Acquiror Founded Date   \n",
      "192210                              Techano Group As  Acquiror Founded Date   \n",
      "192211  Finger Lakes Partners Insurance Services Inc  Acquiror Founded Date   \n",
      "192212           Goodtech Environmental Solutions Ab  Acquiror Founded Date   \n",
      "192213                                         Sweed  Acquiror Founded Date   \n",
      "\n",
      "                      Value  \n",
      "0                4025744020  \n",
      "1                3987194020  \n",
      "2                3989876040  \n",
      "3                3989437020  \n",
      "4                3915525020  \n",
      "...                     ...  \n",
      "192209  2014-01-01 00:00:00  \n",
      "192210  1966-01-01 00:00:00  \n",
      "192211  2011-01-01 00:00:00  \n",
      "192212  1988-01-01 00:00:00  \n",
      "192213  2016-01-01 00:00:00  \n",
      "\n",
      "[192214 rows x 3 columns]\n"
     ]
    }
   ],
   "source": [
    "import pandas as pd\n",
    "\n",
    "# Read in the original table\n",
    "df = pd.read_excel(\"D:\\Downloads\\GridExport_March_29_2023_11_42_3.xlsx\")\n",
    "\n",
    "# Define the columns to keep fixed\n",
    "id_vars = ['Target Full Name']\n",
    "\n",
    "# Unpivot the table\n",
    "df_unpivoted = pd.melt(df, id_vars=id_vars, var_name='Type of edge', value_name='Value')\n",
    "\n",
    "# Print the resulting table\n",
    "print(df_unpivoted)"
   ]
  },
  {
   "cell_type": "code",
   "execution_count": 2,
   "metadata": {},
   "outputs": [],
   "source": [
    "# save the table as excel\n",
    "\n",
    "df_unpivoted.to_excel(\"D:\\Downloads\\GridExport_March_29_2023_11_42_3_unpivoted.xlsx\")"
   ]
  },
  {
   "cell_type": "code",
   "execution_count": null,
   "metadata": {},
   "outputs": [],
   "source": []
  }
 ],
 "metadata": {
  "kernelspec": {
   "display_name": "Python 3.8.3 64-bit",
   "language": "python",
   "name": "python3"
  },
  "language_info": {
   "codemirror_mode": {
    "name": "ipython",
    "version": 3
   },
   "file_extension": ".py",
   "mimetype": "text/x-python",
   "name": "python",
   "nbconvert_exporter": "python",
   "pygments_lexer": "ipython3",
   "version": "3.10.10"
  },
  "vscode": {
   "interpreter": {
    "hash": "570feb405e2e27c949193ac68f46852414290d515b0ba6e5d90d076ed2284471"
   }
  }
 },
 "nbformat": 4,
 "nbformat_minor": 4
}
